{
 "cells": [
  {
   "cell_type": "code",
   "execution_count": 1,
   "metadata": {
    "collapsed": false,
    "slideshow": {
     "slide_type": "skip"
    }
   },
   "outputs": [
    {
     "name": "stdout",
     "output_type": "stream",
     "text": [
      "Drawing /home/ssanderson/projects/pytenn2016/notebooks/images/compiler.svg\n",
      "Drawing /home/ssanderson/projects/pytenn2016/notebooks/images/decoder.svg\n",
      "Drawing /home/ssanderson/projects/pytenn2016/notebooks/images/importhook.svg\n",
      "Drawing /home/ssanderson/projects/pytenn2016/notebooks/images/bytecode.svg\n"
     ]
    }
   ],
   "source": [
    "import dis\n",
    "import inspect\n",
    "from textwrap import dedent\n",
    "\n",
    "from codetransformer.utils.pretty import a as show_ast, d as show_disassembly\n",
    "  \n",
    "import pytenn2016\n",
    "from pytenn2016 import diagrams\n",
    "from pytenn2016.tokens import show_tokens\n",
    "\n",
    "# Clean bytecode caches so that importing rot13 fails the first time.\n",
    "# This is using IPython's magic interpolation syntax.\n",
    "!rm {pytenn2016.__file__.replace('__init__.py', '__pycache__')}/*\n",
    "\n",
    "# Redraw diagrams\n",
    "diagrams.draw_all()"
   ]
  },
  {
   "cell_type": "markdown",
   "metadata": {
    "slideshow": {
     "slide_type": "slide"
    }
   },
   "source": [
    " <center>\n",
    "  <h1>Unspeakably Evil Hacks in Service of Marginally-Improved Syntax</h1><br><br>\n",
    "  <h2>Compile-Time Metaprogramming in Python</h2><br><br>\n",
    "  <h3><a href=\"https://github.com/ssanderson/pytenn2016\">https://github.com/ssanderson/pytenn2016</a>\n",
    "  </h3><br>\n",
    "  \n",
    "</center>"
   ]
  },
  {
   "cell_type": "markdown",
   "metadata": {
    "slideshow": {
     "slide_type": "slide"
    }
   },
   "source": [
    "# About Me:\n",
    "\n",
    "<img src=\"images/me.jpg\" alt=\"Drawing\" style=\"width: 300px;\"/>\n",
    "\n",
    "- API Design Lead at [Quantopian](www.quantopian.com)\n",
    "- Background in Mathematics and Philosophy\n",
    "- **Twitter:** [@ssanderson11235](https://twitter.com/ssanderson11235)\n",
    "- **GitHub:** [ssanderson](github.com/ssanderson)"
   ]
  },
  {
   "cell_type": "markdown",
   "metadata": {
    "slideshow": {
     "slide_type": "slide"
    }
   },
   "source": [
    "# Outline\n",
    "\n",
    "- \"Standard\" Metaprogramming Techniques\n",
    "- Python Program Representations\n",
    "- Custom File Encodings\n",
    "- Import Hooks\n",
    "- Bytecode Rewriting\n",
    "- Philosophy"
   ]
  },
  {
   "cell_type": "markdown",
   "metadata": {
    "slideshow": {
     "slide_type": "fragment"
    }
   },
   "source": [
    "- Memes!"
   ]
  },
  {
   "cell_type": "markdown",
   "metadata": {
    "slideshow": {
     "slide_type": "slide"
    }
   },
   "source": [
    "# Metaprogramming"
   ]
  },
  {
   "cell_type": "markdown",
   "metadata": {
    "slideshow": {
     "slide_type": "fragment"
    }
   },
   "source": [
    "> Metaprogramming is the writing of computer programs with the ability to treat programs as their data. It means that a program could be designed to read, generate, analyse or transform other programs, and even modify itself while running. - Wikipedia"
   ]
  },
  {
   "cell_type": "markdown",
   "metadata": {
    "slideshow": {
     "slide_type": "slide"
    }
   },
   "source": [
    "<img alt=\"Xzibit loves metaprogramming!\" src=\"images/yo-dawg.jpg\" style=\"width: 1000px\"/>"
   ]
  },
  {
   "cell_type": "markdown",
   "metadata": {
    "slideshow": {
     "slide_type": "slide"
    }
   },
   "source": [
    "# Decorators"
   ]
  },
  {
   "cell_type": "code",
   "execution_count": 2,
   "metadata": {
    "collapsed": false,
    "slideshow": {
     "slide_type": "subslide"
    }
   },
   "outputs": [
    {
     "name": "stdout",
     "output_type": "stream",
     "text": [
      "add called with args: (1, 2)\n",
      "save called with args: ('Important Data',)\n"
     ]
    }
   ],
   "source": [
    "def noisey_add(a, b):\n",
    "    print(\"add called with args: {args}\".format(args=(a, b)))\n",
    "\n",
    "    return a + b\n",
    "\n",
    "...\n",
    "\n",
    "def noisey_save(s):\n",
    "    print(\"save called with args: {args}\".format(args=(s,)))\n",
    "    \n",
    "    # /dev/null is web scale\n",
    "    with open('/dev/null', 'w') as f:\n",
    "        f.write(s)\n",
    "\n",
    "noisey_add(1, 2)\n",
    "noisey_save('Important Data')"
   ]
  },
  {
   "cell_type": "code",
   "execution_count": 3,
   "metadata": {
    "collapsed": true,
    "slideshow": {
     "slide_type": "subslide"
    }
   },
   "outputs": [],
   "source": [
    "from functools import wraps\n",
    "\n",
    "def noisey(f):\n",
    "    \"A decorator that prints arguments to a function before calling it.\"\n",
    "    name = f.__name__\n",
    "    \n",
    "    @wraps(f)\n",
    "    def print_then_call_f(*args):\n",
    "        print(\"{f} called with args: {args}\".format(f=name, args=args))\n",
    "        return f(*args)\n",
    "    \n",
    "    return print_then_call_f"
   ]
  },
  {
   "cell_type": "code",
   "execution_count": 4,
   "metadata": {
    "collapsed": false,
    "slideshow": {
     "slide_type": "subslide"
    }
   },
   "outputs": [
    {
     "name": "stdout",
     "output_type": "stream",
     "text": [
      "add called with args: (1, 2)\n",
      "save called with args: ('Important Data',)\n"
     ]
    }
   ],
   "source": [
    "@noisey\n",
    "def add(a, b):\n",
    "    return a + b\n",
    "\n",
    "@noisey\n",
    "def save(s):\n",
    "    # Still web scale\n",
    "    with open('/dev/null', 'w') as f:\n",
    "        f.write(s)\n",
    "\n",
    "add(1, 2)\n",
    "save(\"Important Data\")"
   ]
  },
  {
   "cell_type": "markdown",
   "metadata": {
    "collapsed": true,
    "slideshow": {
     "slide_type": "slide"
    }
   },
   "source": [
    "# Metaclasses"
   ]
  },
  {
   "cell_type": "code",
   "execution_count": 5,
   "metadata": {
    "collapsed": false,
    "slideshow": {
     "slide_type": "slide"
    }
   },
   "outputs": [
    {
     "name": "stdout",
     "output_type": "stream",
     "text": [
      "Magnitude: 2.236068\n",
      "Doubled Magnitude: 4.472136\n"
     ]
    }
   ],
   "source": [
    "import math\n",
    "\n",
    "class Vector:\n",
    "    \"A 2-Dimensional vector.\"\n",
    "\n",
    "    def __init__(self, x, y):\n",
    "        self.x = x\n",
    "        self.y = y\n",
    "        \n",
    "    def magnitude(self):\n",
    "        return math.sqrt(self.x ** 2 + self.y ** 2)\n",
    "    \n",
    "    def doubled(self):\n",
    "        return type(self)(self.x * 2, self.y * 2)\n",
    "    \n",
    "v0 = Vector(1, 2)\n",
    "print(\"Magnitude: %f\" % v0.magnitude())\n",
    "print(\"Doubled Magnitude: %f\" % v0.doubled().magnitude())"
   ]
  },
  {
   "cell_type": "code",
   "execution_count": 6,
   "metadata": {
    "collapsed": false,
    "slideshow": {
     "slide_type": "subslide"
    }
   },
   "outputs": [
    {
     "name": "stdout",
     "output_type": "stream",
     "text": [
      "Magnitude: 2.236068\n",
      "Doubled Magnitude: 4.472136\n"
     ]
    }
   ],
   "source": [
    "class PropertyVector:\n",
    "    \"A 2-Dimensional vector, now with 100% fewer parentheses!\"\n",
    "    def __init__(self, x, y):\n",
    "        self.x = x\n",
    "        self.y = y\n",
    "\n",
    "    @property\n",
    "    def magnitude(self):\n",
    "        return math.sqrt(self.x ** 2 + self.y ** 2)\n",
    "    \n",
    "    @property\n",
    "    def doubled(self):\n",
    "        return type(self)(self.x * 2, self.y * 2)\n",
    "    \n",
    "v1 = PropertyVector(1, 2)\n",
    "print(\"Magnitude: %f\" % v1.magnitude)\n",
    "print(\"Doubled Magnitude: %f\" % v1.doubled.magnitude)"
   ]
  },
  {
   "cell_type": "code",
   "execution_count": 7,
   "metadata": {
    "collapsed": false,
    "slideshow": {
     "slide_type": "subslide"
    }
   },
   "outputs": [],
   "source": [
    "import inspect\n",
    "from pprint import pformat\n",
    "\n",
    "# Our metaclass will automatically convert anything with this signature\n",
    "# into a property.\n",
    "property_signature = inspect.FullArgSpec(\n",
    "    args=['self'], varargs=None, varkw=None, defaults=None, \n",
    "    kwonlyargs=[], kwonlydefaults=None, annotations={},\n",
    ")\n",
    "\n",
    "class AutoPropertyMeta(type):\n",
    "    \"\"\"Metaclass that wraps no-argument methods in properties.\"\"\"\n",
    "    \n",
    "    def __new__(mcls, name, bases, clsdict):\n",
    "        for name, class_attr in clsdict.items():\n",
    "            try:\n",
    "                signature = inspect.getfullargspec(class_attr)\n",
    "            except TypeError:\n",
    "                continue\n",
    "\n",
    "            if signature == property_signature:\n",
    "                print(\"Wrapping %s in a property.\" % name)\n",
    "                clsdict[name] = property(class_attr)\n",
    "\n",
    "        return super().__new__(mcls, name, bases, clsdict)"
   ]
  },
  {
   "cell_type": "code",
   "execution_count": 8,
   "metadata": {
    "collapsed": false,
    "slideshow": {
     "slide_type": "subslide"
    }
   },
   "outputs": [
    {
     "name": "stdout",
     "output_type": "stream",
     "text": [
      "Wrapping doubled in a property.\n",
      "Wrapping magnitude in a property.\n",
      "\n",
      "Magnitude: 2.236068\n",
      "Doubled Magnitude: 4.472136\n"
     ]
    }
   ],
   "source": [
    "class AutoPropertyVector(metaclass=AutoPropertyMeta):\n",
    "    \"A 2-Dimensional vector, now with 100% less @property calls!\"\n",
    "    def __init__(self, x, y):\n",
    "        self.x = x\n",
    "        self.y = y\n",
    "        \n",
    "    def magnitude(self):\n",
    "        return math.sqrt(self.x ** 2 + self.y ** 2)\n",
    "    \n",
    "    def doubled(self):\n",
    "        return type(self)(self.x * 2, self.y * 2)\n",
    "\n",
    "v2 = AutoPropertyVector(1, 2)\n",
    "print(\"\")\n",
    "print(\"Magnitude: %f\" % v2.magnitude)\n",
    "print(\"Doubled Magnitude: %f\" % v2.doubled.magnitude)"
   ]
  },
  {
   "cell_type": "markdown",
   "metadata": {
    "slideshow": {
     "slide_type": "slide"
    }
   },
   "source": [
    "# `exec`\n",
    "\n",
    "\"The Swiss Army Knife of Metaprogramming\""
   ]
  },
  {
   "cell_type": "markdown",
   "metadata": {
    "slideshow": {
     "slide_type": "slide"
    }
   },
   "source": [
    "![Metaprogramming is the best](images/unicorn.jpg)"
   ]
  },
  {
   "cell_type": "markdown",
   "metadata": {
    "slideshow": {
     "slide_type": "subslide"
    }
   },
   "source": [
    "# That's all great but..."
   ]
  },
  {
   "cell_type": "markdown",
   "metadata": {
    "slideshow": {
     "slide_type": "fragment"
    }
   },
   "source": [
    "- Abstractions often incur runtime overhead."
   ]
  },
  {
   "cell_type": "markdown",
   "metadata": {
    "slideshow": {
     "slide_type": "fragment"
    }
   },
   "source": [
    "- Certain operations can't be overloaded (e.g. ``is`` and ``not``, or catching exceptions)."
   ]
  },
  {
   "cell_type": "markdown",
   "metadata": {
    "collapsed": true,
    "slideshow": {
     "slide_type": "fragment"
    }
   },
   "source": [
    "- No support for syntactic extensions.\n",
    "  - Can't add new syntax.\n",
    "  - Often can't repurpose existing syntax."
   ]
  },
  {
   "cell_type": "markdown",
   "metadata": {
    "slideshow": {
     "slide_type": "subslide"
    }
   },
   "source": [
    "- Doesn't quite feel *evil* enough..."
   ]
  },
  {
   "cell_type": "markdown",
   "metadata": {
    "slideshow": {
     "slide_type": "slide"
    }
   },
   "source": [
    "<img alt=\"We have to go deeper!\" src=\"images/leo.jpg\" style=\"width: 1000px\"/>"
   ]
  },
  {
   "cell_type": "markdown",
   "metadata": {
    "slideshow": {
     "slide_type": "slide"
    }
   },
   "source": [
    "# Let's look at a complicated function..."
   ]
  },
  {
   "cell_type": "code",
   "execution_count": 9,
   "metadata": {
    "collapsed": false,
    "scrolled": true,
    "slideshow": {
     "slide_type": "subslide"
    }
   },
   "outputs": [
    {
     "data": {
      "text/plain": [
       "3"
      ]
     },
     "execution_count": 9,
     "metadata": {},
     "output_type": "execute_result"
    }
   ],
   "source": [
    "def addtwo(a):\n",
    "    return a + 2\n",
    "\n",
    "addtwo(1)"
   ]
  },
  {
   "cell_type": "markdown",
   "metadata": {
    "slideshow": {
     "slide_type": "slide"
    }
   },
   "source": [
    "# What Happened When I Hit Enter?"
   ]
  },
  {
   "cell_type": "markdown",
   "metadata": {
    "slideshow": {
     "slide_type": "subslide"
    }
   },
   "source": [
    "<img src=\"images/compiler.svg\" width=\"3000\"/>"
   ]
  },
  {
   "cell_type": "code",
   "execution_count": 10,
   "metadata": {
    "collapsed": false,
    "scrolled": false,
    "slideshow": {
     "slide_type": "slide"
    }
   },
   "outputs": [
    {
     "data": {
      "text/plain": [
       "b'def addtwo(a):\\n    return a + 2\\n    \\naddtwo(1)\\n'"
      ]
     },
     "execution_count": 10,
     "metadata": {},
     "output_type": "execute_result"
    }
   ],
   "source": [
    "raw_source = b\"\"\"\\\n",
    "def addtwo(a):\n",
    "    return a + 2\n",
    "    \n",
    "addtwo(1)\n",
    "\"\"\"\n",
    "\n",
    "raw_source\n",
    "# list(raw_source)"
   ]
  },
  {
   "cell_type": "code",
   "execution_count": 11,
   "metadata": {
    "collapsed": false,
    "slideshow": {
     "slide_type": "subslide"
    }
   },
   "outputs": [
    {
     "name": "stdout",
     "output_type": "stream",
     "text": [
      "def addtwo(a):\n",
      "    return a + 2\n",
      "    \n",
      "addtwo(1)\n",
      "\n"
     ]
    }
   ],
   "source": [
    "# Bytes to Text\n",
    "import codecs\n",
    "\n",
    "decoded_source = codecs.getdecoder('utf-8')(raw_source)[0]\n",
    "\n",
    "print(decoded_source)"
   ]
  },
  {
   "cell_type": "code",
   "execution_count": 12,
   "metadata": {
    "collapsed": false,
    "slideshow": {
     "slide_type": "subslide"
    }
   },
   "outputs": [
    {
     "name": "stdout",
     "output_type": "stream",
     "text": [
      "Expr(\n",
      "  value=Call(\n",
      "    func=Name(id='addtwo', ctx=Load()),\n",
      "    args=[\n",
      "      Num(1),\n",
      "    ],\n",
      "    keywords=[],\n",
      "    starargs=None,\n",
      "    kwargs=None,\n",
      "  ),\n",
      ")\n"
     ]
    }
   ],
   "source": [
    "# Text to AST\n",
    "import ast\n",
    "syntax_tree = ast.parse(decoded_source)\n",
    "\n",
    "body = syntax_tree.body\n",
    "show_ast(body[1])"
   ]
  },
  {
   "cell_type": "code",
   "execution_count": 13,
   "metadata": {
    "collapsed": false,
    "slideshow": {
     "slide_type": "subslide"
    }
   },
   "outputs": [
    {
     "data": {
      "text/plain": [
       "<code object <module> at 0x7fef4c11d300, file \"pytenn2016\", line 1>"
      ]
     },
     "execution_count": 13,
     "metadata": {},
     "output_type": "execute_result"
    }
   ],
   "source": [
    "# AST -> Bytecode\n",
    "code = compile(syntax_tree, 'pytenn2016', 'exec')\n",
    "\n",
    "code\n",
    "# show_disassembly(code)"
   ]
  },
  {
   "cell_type": "markdown",
   "metadata": {
    "slideshow": {
     "slide_type": "slide"
    }
   },
   "source": [
    "\n",
    "<img src=\"images/scheming.jpg\" width=\"1000\"/>"
   ]
  },
  {
   "cell_type": "markdown",
   "metadata": {
    "slideshow": {
     "slide_type": "subslide"
    }
   },
   "source": [
    "# What can I muck with?\n",
    "<img src=\"images/compiler.svg\" width=\"3000\"/>"
   ]
  },
  {
   "cell_type": "markdown",
   "metadata": {
    "slideshow": {
     "slide_type": "subslide"
    }
   },
   "source": [
    "# Custom Source Encodings\n",
    "\n",
    "<img src=\"images/decoder.svg\" width=\"2500\"/>"
   ]
  },
  {
   "cell_type": "code",
   "execution_count": 14,
   "metadata": {
    "collapsed": false,
    "slideshow": {
     "slide_type": "slide"
    }
   },
   "outputs": [
    {
     "name": "stdout",
     "output_type": "stream",
     "text": [
      "# encoding: pytenn2016-rot13\r\n",
      "\r\n",
      "qrs uryyb():\r\n",
      "    cevag(\"Uryyb Ebgngrq Jbeyq!\")\r\n"
     ]
    }
   ],
   "source": [
    "!cat ../pytenn2016/rot13.py"
   ]
  },
  {
   "cell_type": "markdown",
   "metadata": {
    "slideshow": {
     "slide_type": "subslide"
    }
   },
   "source": [
    "## Python doesn't know about our encoding..."
   ]
  },
  {
   "cell_type": "code",
   "execution_count": 15,
   "metadata": {
    "collapsed": false,
    "slideshow": {
     "slide_type": "-"
    }
   },
   "outputs": [
    {
     "ename": "SyntaxError",
     "evalue": "unknown encoding for '/home/ssanderson/projects/pytenn2016/pytenn2016/rot13.py': pytenn2016-rot13 (<string>)",
     "output_type": "error",
     "traceback": [
      "\u001b[1;36m  File \u001b[1;32m\"<string>\"\u001b[1;36m, line \u001b[1;32munknown\u001b[0m\n\u001b[1;31mSyntaxError\u001b[0m\u001b[1;31m:\u001b[0m unknown encoding for '/home/ssanderson/projects/pytenn2016/pytenn2016/rot13.py': pytenn2016-rot13\n"
     ]
    }
   ],
   "source": [
    "from pytenn2016.rot13 import hello \n",
    "\n",
    "hello()"
   ]
  },
  {
   "cell_type": "markdown",
   "metadata": {
    "slideshow": {
     "slide_type": "subslide"
    }
   },
   "source": [
    "## ...until we register with the `codecs` module."
   ]
  },
  {
   "cell_type": "code",
   "execution_count": 16,
   "metadata": {
    "collapsed": false,
    "slideshow": {
     "slide_type": "-"
    }
   },
   "outputs": [],
   "source": [
    "from codecs import register\n",
    "from pytenn2016.encoding import search_function\n",
    "\n",
    "register(search_function)"
   ]
  },
  {
   "cell_type": "code",
   "execution_count": 17,
   "metadata": {
    "collapsed": false,
    "slideshow": {
     "slide_type": "subslide"
    }
   },
   "outputs": [
    {
     "name": "stdout",
     "output_type": "stream",
     "text": [
      "Hello Rotated World!\n"
     ]
    }
   ],
   "source": [
    "from pytenn2016.rot13 import hello\n",
    "\n",
    "hello()"
   ]
  },
  {
   "cell_type": "markdown",
   "metadata": {
    "slideshow": {
     "slide_type": "slide"
    }
   },
   "source": [
    "# What is this actually useful for?"
   ]
  },
  {
   "cell_type": "code",
   "execution_count": 18,
   "metadata": {
    "collapsed": false,
    "slideshow": {
     "slide_type": "fragment"
    }
   },
   "outputs": [
    {
     "name": "stdout",
     "output_type": "stream",
     "text": [
      "# encoding: pyxl\r\n",
      "\r\n",
      "import pyxl.html as html\r\n",
      "\r\n",
      "def hello_html():\r\n",
      "    return <html>\r\n",
      "             <body>Hello World!</body>\r\n",
      "           </html>\r\n"
     ]
    }
   ],
   "source": [
    "!cat ../pytenn2016/pyxl.py"
   ]
  },
  {
   "cell_type": "code",
   "execution_count": 19,
   "metadata": {
    "collapsed": false,
    "slideshow": {
     "slide_type": "subslide"
    }
   },
   "outputs": [
    {
     "data": {
      "text/plain": [
       "<pyxl.html.x_html at 0x7fef4c210828>"
      ]
     },
     "execution_count": 19,
     "metadata": {},
     "output_type": "execute_result"
    }
   ],
   "source": [
    "import pyxl.codec.register # Activates the pyxl encoding\n",
    "\n",
    "from pytenn2016.pyxl import hello_html\n",
    "\n",
    "hello_html()"
   ]
  },
  {
   "cell_type": "code",
   "execution_count": 20,
   "metadata": {
    "collapsed": false,
    "slideshow": {
     "slide_type": "fragment"
    }
   },
   "outputs": [
    {
     "data": {
      "text/plain": [
       "'<html><body>Hello World!</body></html>'"
      ]
     },
     "execution_count": 20,
     "metadata": {},
     "output_type": "execute_result"
    }
   ],
   "source": [
    "str(hello_html())"
   ]
  },
  {
   "cell_type": "markdown",
   "metadata": {
    "slideshow": {
     "slide_type": "slide"
    }
   },
   "source": [
    "# Custom Encoding Summary\n",
    "\n",
    "- Encodings registered globally with the `codecs` module.\n",
    "- Opt-in on a **per-file** basis.\n",
    "- Only one encoding per file.\n",
    "- Files must end in `.py`.\n",
    "- Operates semantically on bytes <-> text layer."
   ]
  },
  {
   "cell_type": "markdown",
   "metadata": {
    "slideshow": {
     "slide_type": "slide"
    }
   },
   "source": [
    "# Import Hooks\n",
    "\n",
    "<img src=\"images/importhook.svg\" width=\"1000\"/>"
   ]
  },
  {
   "cell_type": "markdown",
   "metadata": {
    "slideshow": {
     "slide_type": "subslide"
    }
   },
   "source": [
    "## Hy - Lisp Embedded in Python"
   ]
  },
  {
   "cell_type": "code",
   "execution_count": 21,
   "metadata": {
    "collapsed": false,
    "slideshow": {
     "slide_type": "slide"
    }
   },
   "outputs": [
    {
     "name": "stdout",
     "output_type": "stream",
     "text": [
      "(defn hyfact [n]\r\n",
      "  \"Lisp in Python!\"\r\n",
      "  (defn fact-impl [n acc]\r\n",
      "    (if (<= n 1)\r\n",
      "        acc\r\n",
      "      (fact-impl (- n 1) (* acc n))))\r\n",
      "  (fact-impl n 1))\r\n"
     ]
    }
   ],
   "source": [
    "! cat ../pytenn2016/hy_example.hy"
   ]
  },
  {
   "cell_type": "code",
   "execution_count": 22,
   "metadata": {
    "collapsed": false,
    "slideshow": {
     "slide_type": "subslide"
    }
   },
   "outputs": [
    {
     "data": {
      "text/plain": [
       "120"
      ]
     },
     "execution_count": 22,
     "metadata": {},
     "output_type": "execute_result"
    }
   ],
   "source": [
    "import hy  #  Has to come first to ensure that import hook is set.\n",
    "from pytenn2016.hy_example import hyfact\n",
    "\n",
    "hyfact(5)"
   ]
  },
  {
   "cell_type": "markdown",
   "metadata": {
    "slideshow": {
     "slide_type": "slide"
    }
   },
   "source": [
    "# Cython - Pseudo-Python Compiled to C"
   ]
  },
  {
   "cell_type": "code",
   "execution_count": 23,
   "metadata": {
    "collapsed": false,
    "slideshow": {
     "slide_type": "subslide"
    }
   },
   "outputs": [
    {
     "name": "stdout",
     "output_type": "stream",
     "text": [
      "cpdef cyfact(int n):\r\n",
      "    cdef int acc = 1\r\n",
      "    cdef int i\r\n",
      "    for i in range(1, n + 1):\r\n",
      "        acc *= i\r\n",
      "    return acc\r\n"
     ]
    }
   ],
   "source": [
    "!cat ../pytenn2016/cython_example.pyx"
   ]
  },
  {
   "cell_type": "code",
   "execution_count": 24,
   "metadata": {
    "collapsed": false,
    "slideshow": {
     "slide_type": "subslide"
    }
   },
   "outputs": [
    {
     "name": "stdout",
     "output_type": "stream",
     "text": [
      "cyfact is a <class 'builtin_function_or_method'>\n"
     ]
    },
    {
     "data": {
      "text/plain": [
       "120"
      ]
     },
     "execution_count": 24,
     "metadata": {},
     "output_type": "execute_result"
    }
   ],
   "source": [
    "import pyximport\n",
    "pyximport.install()\n",
    "\n",
    "from pytenn2016.cython_example import cyfact\n",
    "\n",
    "print(\"cyfact is a %s\" % type(cyfact))\n",
    "cyfact(5)"
   ]
  },
  {
   "cell_type": "code",
   "execution_count": 25,
   "metadata": {
    "collapsed": false,
    "slideshow": {
     "slide_type": "subslide"
    }
   },
   "outputs": [
    {
     "name": "stdout",
     "output_type": "stream",
     "text": [
      "Python Factorial:\n",
      "100000 loops, best of 3: 3.38 µs per loop\n",
      "\n",
      "Cython Factorial:\n",
      "10000000 loops, best of 3: 43.7 ns per loop\n"
     ]
    }
   ],
   "source": [
    "print(\"Python Factorial:\")\n",
    "%timeit hyfact(25)\n",
    "\n",
    "print(\"\\nCython Factorial:\")\n",
    "%timeit cyfact(25)"
   ]
  },
  {
   "cell_type": "markdown",
   "metadata": {
    "slideshow": {
     "slide_type": "slide"
    }
   },
   "source": [
    "# Import Hook Summary\n",
    "\n",
    "- Registered Globally on `sys.meta_path`.\n",
    "- Loader gets to choose how a file is imported.\n",
    "- No restrictions on file structure.\n",
    "  - Doesn't even have correspond to a filesystem entry..."
   ]
  },
  {
   "cell_type": "markdown",
   "metadata": {
    "slideshow": {
     "slide_type": "slide"
    }
   },
   "source": [
    "# Problem:\n",
    "\n",
    "Both import hooks and custom encodings rely on some **external** piece of code having been run before a hooked module can be executed.\n",
    "\n",
    "This makes it hard to ensure that transformations are used correctly/reliably by users."
   ]
  },
  {
   "cell_type": "markdown",
   "metadata": {
    "slideshow": {
     "slide_type": "slide"
    }
   },
   "source": [
    "# What if we just rewrite the code we already have...?"
   ]
  },
  {
   "cell_type": "markdown",
   "metadata": {
    "slideshow": {
     "slide_type": "slide"
    }
   },
   "source": [
    "# Bytecode Manipulation\n",
    "\n",
    "<img src=\"images/bytecode.svg\" width=\"750\"/>"
   ]
  },
  {
   "cell_type": "code",
   "execution_count": 26,
   "metadata": {
    "collapsed": false,
    "slideshow": {
     "slide_type": "subslide"
    }
   },
   "outputs": [
    {
     "data": {
      "text/plain": [
       "<code object addtwo at 0x7fef4c0fa1e0, file \"<ipython-input-9-ba723be474f5>\", line 1>"
      ]
     },
     "execution_count": 26,
     "metadata": {},
     "output_type": "execute_result"
    }
   ],
   "source": [
    "addcode = addtwo.__code__\n",
    "addcode"
   ]
  },
  {
   "cell_type": "code",
   "execution_count": 27,
   "metadata": {
    "collapsed": false,
    "slideshow": {
     "slide_type": "subslide"
    }
   },
   "outputs": [
    {
     "data": {
      "text/plain": [
       "{'co_argcount': 1,\n",
       " 'co_cellvars': (),\n",
       " 'co_code': b'|\\x00\\x00d\\x01\\x00\\x17S',\n",
       " 'co_consts': (None, 2),\n",
       " 'co_filename': '<ipython-input-9-ba723be474f5>',\n",
       " 'co_firstlineno': 1,\n",
       " 'co_flags': 67,\n",
       " 'co_freevars': (),\n",
       " 'co_kwonlyargcount': 0,\n",
       " 'co_lnotab': b'\\x00\\x01',\n",
       " 'co_name': 'addtwo',\n",
       " 'co_names': (),\n",
       " 'co_nlocals': 1,\n",
       " 'co_stacksize': 2,\n",
       " 'co_varnames': ('a',)}"
      ]
     },
     "execution_count": 27,
     "metadata": {},
     "output_type": "execute_result"
    }
   ],
   "source": [
    "from pytenn2016.bytecode import code_attrs\n",
    "\n",
    "code_attrs(addcode)"
   ]
  },
  {
   "cell_type": "code",
   "execution_count": 28,
   "metadata": {
    "collapsed": false,
    "slideshow": {
     "slide_type": "subslide"
    }
   },
   "outputs": [
    {
     "name": "stdout",
     "output_type": "stream",
     "text": [
      "Raw Bytes: [124, 0, 0, 100, 1, 0, 23, 83]\n",
      "\n",
      "Disassembly:\n",
      "\n",
      "  2           0 LOAD_FAST                0 (a)\n",
      "              3 LOAD_CONST               1 (2)\n",
      "              6 BINARY_ADD\n",
      "              7 RETURN_VALUE\n"
     ]
    }
   ],
   "source": [
    "import dis\n",
    "\n",
    "print(\"Raw Bytes: %s\" % list(addcode.co_code))\n",
    "print(\"\\nDisassembly:\\n\")\n",
    "dis.dis(addcode) "
   ]
  },
  {
   "cell_type": "markdown",
   "metadata": {
    "slideshow": {
     "slide_type": "subslide"
    }
   },
   "source": [
    "### Addition is so 2015..."
   ]
  },
  {
   "cell_type": "code",
   "execution_count": 31,
   "metadata": {
    "collapsed": false,
    "slideshow": {
     "slide_type": "slide"
    }
   },
   "outputs": [
    {
     "name": "stdout",
     "output_type": "stream",
     "text": [
      "Old Disassembly:\n",
      "          0 LOAD_FAST                0 (0)\n",
      "          3 LOAD_CONST               1 (1)\n",
      "          6 BINARY_ADD\n",
      "          7 RETURN_VALUE\n",
      "\n",
      "New Disassembly:\n",
      "          0 LOAD_FAST                0 (0)\n",
      "          3 LOAD_CONST               1 (1)\n",
      "          6 BINARY_MULTIPLY\n",
      "          7 RETURN_VALUE\n"
     ]
    }
   ],
   "source": [
    "def replace(l, old, new):\n",
    "    \"Replace all instances of `old` in `l` with `new`\"\n",
    "    out = []\n",
    "    for elem in l:\n",
    "        if elem == old:\n",
    "            out.append(new)\n",
    "        else:\n",
    "            out.append(elem)\n",
    "    return out\n",
    "\n",
    "addbytes = addcode.co_code\n",
    "mulbytes = bytes(replace(list(addbytes), 23, 20))\n",
    "\n",
    "print(\"Old Disassembly:\")\n",
    "dis.dis(addbytes)\n",
    "print(\"\\nNew Disassembly:\")\n",
    "dis.dis(mulbytes)"
   ]
  },
  {
   "cell_type": "markdown",
   "metadata": {
    "slideshow": {
     "slide_type": "subslide"
    }
   },
   "source": [
    "# Just overwriting the code won't work..."
   ]
  },
  {
   "cell_type": "code",
   "execution_count": 32,
   "metadata": {
    "collapsed": false,
    "slideshow": {
     "slide_type": "-"
    }
   },
   "outputs": [
    {
     "ename": "AttributeError",
     "evalue": "readonly attribute",
     "output_type": "error",
     "traceback": [
      "\u001b[1;31m---------------------------------------------------------------------------\u001b[0m",
      "\u001b[1;31mAttributeError\u001b[0m                            Traceback (most recent call last)",
      "\u001b[1;32m<ipython-input-32-41941fd77925>\u001b[0m in \u001b[0;36m<module>\u001b[1;34m()\u001b[0m\n\u001b[1;32m----> 1\u001b[1;33m \u001b[0madd\u001b[0m\u001b[1;33m.\u001b[0m\u001b[0m__code__\u001b[0m\u001b[1;33m.\u001b[0m\u001b[0mco_code\u001b[0m \u001b[1;33m=\u001b[0m \u001b[0mmulbytes\u001b[0m\u001b[1;33m\u001b[0m\u001b[0m\n\u001b[0m",
      "\u001b[1;31mAttributeError\u001b[0m: readonly attribute"
     ]
    }
   ],
   "source": [
    "add.__code__.co_code = mulbytes"
   ]
  },
  {
   "cell_type": "markdown",
   "metadata": {
    "slideshow": {
     "slide_type": "subslide"
    }
   },
   "source": [
    "# ...but copying everything else will!"
   ]
  },
  {
   "cell_type": "code",
   "execution_count": 33,
   "metadata": {
    "collapsed": false,
    "slideshow": {
     "slide_type": "-"
    }
   },
   "outputs": [
    {
     "data": {
      "text/plain": [
       "<code object addtwo at 0x7fef2b5cd390, file \"<ipython-input-9-ba723be474f5>\", line 1>"
      ]
     },
     "execution_count": 33,
     "metadata": {},
     "output_type": "execute_result"
    }
   ],
   "source": [
    "from types import CodeType\n",
    "\n",
    "mulcode = CodeType(\n",
    "    addcode.co_argcount,\n",
    "    addcode.co_kwonlyargcount,\n",
    "    addcode.co_nlocals,\n",
    "    addcode.co_stacksize,\n",
    "    addcode.co_flags,\n",
    "    mulbytes, # This is our only change.\n",
    "    addcode.co_consts,\n",
    "    addcode.co_names,\n",
    "    addcode.co_varnames,\n",
    "    addcode.co_filename,\n",
    "    addcode.co_name,\n",
    "    addcode.co_firstlineno,\n",
    "    addcode.co_lnotab,\n",
    "    addcode.co_freevars,\n",
    "    addcode.co_cellvars,\n",
    ")\n",
    "\n",
    "mulcode"
   ]
  },
  {
   "cell_type": "markdown",
   "metadata": {
    "slideshow": {
     "slide_type": "subslide"
    }
   },
   "source": [
    "# We can use the same technique to rebuild a modified function."
   ]
  },
  {
   "cell_type": "code",
   "execution_count": 34,
   "metadata": {
    "collapsed": false,
    "slideshow": {
     "slide_type": "-"
    }
   },
   "outputs": [],
   "source": [
    "from types import FunctionType\n",
    "\n",
    "multwo = FunctionType(\n",
    "    mulcode,\n",
    "    addtwo.__globals__,\n",
    "    'multwo',\n",
    "    addtwo.__defaults__,\n",
    "    addtwo.__closure__,\n",
    ")"
   ]
  },
  {
   "cell_type": "code",
   "execution_count": 35,
   "metadata": {
    "collapsed": false,
    "slideshow": {
     "slide_type": "subslide"
    }
   },
   "outputs": [
    {
     "data": {
      "text/plain": [
       "10"
      ]
     },
     "execution_count": 35,
     "metadata": {},
     "output_type": "execute_result"
    }
   ],
   "source": [
    "multwo(5)"
   ]
  },
  {
   "cell_type": "markdown",
   "metadata": {
    "slideshow": {
     "slide_type": "slide"
    }
   },
   "source": [
    "<img src=\"images/mindblown.gif\" width=\"2000\"/>"
   ]
  },
  {
   "cell_type": "markdown",
   "metadata": {
    "slideshow": {
     "slide_type": "slide"
    }
   },
   "source": [
    "# Pattern for Bytecode Transformers\n",
    "\n",
    "- Start with an existing function.\n",
    "- Extract its `__code__`.\n",
    "- Apply some transformation.\n",
    "- Contruct new `code` by copying everything not changed.\n",
    "- Construct new function from new code object."
   ]
  },
  {
   "cell_type": "code",
   "execution_count": 36,
   "metadata": {
    "collapsed": false,
    "slideshow": {
     "slide_type": "subslide"
    }
   },
   "outputs": [],
   "source": [
    "from codetransformer import CodeTransformer, pattern\n",
    "from codetransformer.instructions import *\n",
    "\n",
    "class ruby_strings(CodeTransformer):\n",
    "    \n",
    "    @pattern(LOAD_CONST)\n",
    "    def _format_bytes(self, instr):\n",
    "        yield instr\n",
    "        if not isinstance(instr.arg, bytes):\n",
    "            return\n",
    "\n",
    "        # Equivalent to:\n",
    "        # s.decode('utf-8').format(**locals())\n",
    "        yield LOAD_ATTR('decode')\n",
    "        yield LOAD_CONST('utf-8')\n",
    "        yield CALL_FUNCTION(1)\n",
    "        yield LOAD_ATTR('format')\n",
    "        yield LOAD_CONST(locals) \n",
    "        yield CALL_FUNCTION(0)\n",
    "        yield CALL_FUNCTION_KW()"
   ]
  },
  {
   "cell_type": "code",
   "execution_count": 37,
   "metadata": {
    "collapsed": false,
    "slideshow": {
     "slide_type": "subslide"
    }
   },
   "outputs": [
    {
     "data": {
      "text/plain": [
       "'a is 1, b is 2, c is 3'"
      ]
     },
     "execution_count": 37,
     "metadata": {},
     "output_type": "execute_result"
    }
   ],
   "source": [
    "@ruby_strings()\n",
    "def example(a, b, c):\n",
    "    return b\"a is {a}, b is {b}, c is {c}\"\n",
    "\n",
    "example(1, 2, 3)"
   ]
  },
  {
   "cell_type": "markdown",
   "metadata": {
    "slideshow": {
     "slide_type": "slide"
    }
   },
   "source": [
    "# More Examples:  Overloaded Exceptions"
   ]
  },
  {
   "cell_type": "code",
   "execution_count": 38,
   "metadata": {
    "collapsed": false,
    "slideshow": {
     "slide_type": "-"
    }
   },
   "outputs": [
    {
     "data": {
      "text/plain": [
       "'bar'"
      ]
     },
     "execution_count": 38,
     "metadata": {},
     "output_type": "execute_result"
    }
   ],
   "source": [
    "from codetransformer.transformers.exc_patterns import \\\n",
    "    pattern_matched_exceptions\n",
    "  \n",
    "@pattern_matched_exceptions()\n",
    "def foo():\n",
    "    try:\n",
    "        raise ValueError('bar')\n",
    "    except ValueError('buzz'):\n",
    "        return 'buzz'\n",
    "    except ValueError('bar'):\n",
    "        return 'bar'\n",
    "    \n",
    "foo()"
   ]
  },
  {
   "cell_type": "markdown",
   "metadata": {
    "slideshow": {
     "slide_type": "subslide"
    }
   },
   "source": [
    "# More Examples : Overloaded Literals"
   ]
  },
  {
   "cell_type": "code",
   "execution_count": 39,
   "metadata": {
    "collapsed": false,
    "slideshow": {
     "slide_type": "-"
    }
   },
   "outputs": [
    {
     "data": {
      "text/plain": [
       "OrderedDict([('a', 1), ('b', 2)])"
      ]
     },
     "execution_count": 39,
     "metadata": {},
     "output_type": "execute_result"
    }
   ],
   "source": [
    "from codetransformer.transformers.literals import ordereddict_literals\n",
    "\n",
    "@ordereddict_literals\n",
    "def make_dictionary(a, b):\n",
    "    return {a: 1, b: 2}\n",
    "\n",
    "make_dictionary('a', 'b')"
   ]
  },
  {
   "cell_type": "markdown",
   "metadata": {
    "slideshow": {
     "slide_type": "subslide"
    }
   },
   "source": [
    "# More Examples : `numba`"
   ]
  },
  {
   "cell_type": "code",
   "execution_count": 40,
   "metadata": {
    "collapsed": false,
    "slideshow": {
     "slide_type": "-"
    }
   },
   "outputs": [
    {
     "data": {
      "text/plain": [
       "120"
      ]
     },
     "execution_count": 40,
     "metadata": {},
     "output_type": "execute_result"
    }
   ],
   "source": [
    "import numba\n",
    "\n",
    "@numba.jit\n",
    "def numbafact(x):\n",
    "    acc = 1\n",
    "    for i in range(1, x + 1):\n",
    "        acc *= i\n",
    "    return acc\n",
    "\n",
    "numbafact(5)"
   ]
  },
  {
   "cell_type": "code",
   "execution_count": 41,
   "metadata": {
    "collapsed": false,
    "slideshow": {
     "slide_type": "subslide"
    }
   },
   "outputs": [
    {
     "name": "stdout",
     "output_type": "stream",
     "text": [
      "; ModuleID = 'numbafact'\n",
      "target datalayout = \"e-m:e-i64:64-f80:128-n8:16:32:64-S128\"\n",
      "target triple = \"x86_64-pc-linux-gnu\"\n",
      "\n",
      "@PyExc_RuntimeError = external global i8\n",
      "@.const.numbafact = internal constant [10 x i8] c\"numbafact\\00\"\n",
      "@\".const.Fatal_error:_missing__dynfunc.Closure\" = internal constant [38 x i8] c\"Fatal error: missing _dynfunc.Closure\\00\"\n",
      "@.const.missing_Environment = internal constant [20 x i8] c\"missing Environment\\00\"\n",
      "\n",
      "; Function Attrs: nounwind\n",
      "define i32 @\"__main__.numbafact$1.int64\"(i64* noalias nocapture %retptr, { i8*, i32 }** noalias nocapture readnone %excinfo, i8* noalias nocapture readnone %env, i64 %arg.x) #0 {\n",
      "entry:\n",
      "  %.82 = icmp sgt i64 %arg.x, 0\n",
      "  br i1 %.82, label %B29.preheader, label %B45\n",
      "\n",
      "B29.preheader:                                    ; preds = %entry\n",
      "  %0 = xor i64 %arg.x, -1\n",
      "  %1 = icmp sgt i64 %0, -2\n",
      "  %smax = select i1 %1, i64 %0, i64 -2\n",
      "  %2 = add i64 %smax, %arg.x\n",
      "  %backedge.overflow = icmp eq i64 %2, -2\n",
      "  br i1 %backedge.overflow, label %B29.preheader16, label %overflow.checked\n",
      "\n",
      "overflow.checked:                                 ; preds = %B29.preheader\n",
      "  %3 = add i64 %2, 2\n",
      "  %end.idx = add i64 %2, 3\n",
      "  %n.vec = and i64 %3, -8\n",
      "  %end.idx.rnd.down15 = or i64 %n.vec, 1\n",
      "  %cmp.zero = icmp eq i64 %end.idx.rnd.down15, 1\n",
      "  %rev.ind.end = sub i64 %arg.x, %n.vec\n",
      "  br i1 %cmp.zero, label %middle.block, label %vector.body.preheader\n",
      "\n",
      "vector.body.preheader:                            ; preds = %overflow.checked\n",
      "  %4 = sub i64 -1, %arg.x\n",
      "  %5 = icmp sgt i64 %4, -2\n",
      "  %smax21 = select i1 %5, i64 %4, i64 -2\n",
      "  %6 = add i64 %arg.x, %smax21\n",
      "  %7 = add i64 %6, 2\n",
      "  %8 = lshr i64 %7, 3\n",
      "  %9 = mul i64 %8, 8\n",
      "  br label %vector.body\n",
      "\n",
      "vector.body:                                      ; preds = %vector.body.preheader, %vector.body\n",
      "  %lsr.iv19 = phi i64 [ 0, %vector.body.preheader ], [ %lsr.iv.next20, %vector.body ]\n",
      "  %vec.phi = phi <4 x i64> [ %11, %vector.body ], [ <i64 1, i64 1, i64 1, i64 1>, %vector.body.preheader ]\n",
      "  %vec.phi5 = phi <4 x i64> [ %12, %vector.body ], [ <i64 1, i64 1, i64 1, i64 1>, %vector.body.preheader ]\n",
      "  %10 = add i64 %lsr.iv19, 1\n",
      "  %broadcast.splatinsert7 = insertelement <4 x i64> undef, i64 %10, i32 0\n",
      "  %broadcast.splat8 = shufflevector <4 x i64> %broadcast.splatinsert7, <4 x i64> undef, <4 x i32> zeroinitializer\n",
      "  %induction9 = add <4 x i64> %broadcast.splat8, <i64 0, i64 1, i64 2, i64 3>\n",
      "  %induction10 = add <4 x i64> %broadcast.splat8, <i64 4, i64 5, i64 6, i64 7>\n",
      "  %11 = mul nsw <4 x i64> %vec.phi, %induction9\n",
      "  %12 = mul nsw <4 x i64> %vec.phi5, %induction10\n",
      "  %lsr.iv.next20 = add i64 %lsr.iv19, 8\n",
      "  %13 = icmp eq i64 %9, %lsr.iv.next20\n",
      "  br i1 %13, label %middle.block, label %vector.body, !llvm.loop !0\n",
      "\n",
      "middle.block:                                     ; preds = %vector.body, %overflow.checked\n",
      "  %resume.val = phi i64 [ %arg.x, %overflow.checked ], [ %rev.ind.end, %vector.body ]\n",
      "  %resume.val3 = phi i64 [ 1, %overflow.checked ], [ %end.idx.rnd.down15, %vector.body ]\n",
      "  %rdx.vec.exit.phi = phi <4 x i64> [ <i64 1, i64 1, i64 1, i64 1>, %overflow.checked ], [ %11, %vector.body ]\n",
      "  %rdx.vec.exit.phi11 = phi <4 x i64> [ <i64 1, i64 1, i64 1, i64 1>, %overflow.checked ], [ %12, %vector.body ]\n",
      "  %bin.rdx = mul <4 x i64> %rdx.vec.exit.phi11, %rdx.vec.exit.phi\n",
      "  %rdx.shuf = shufflevector <4 x i64> %bin.rdx, <4 x i64> undef, <4 x i32> <i32 2, i32 3, i32 undef, i32 undef>\n",
      "  %bin.rdx12 = mul <4 x i64> %bin.rdx, %rdx.shuf\n",
      "  %rdx.shuf13 = shufflevector <4 x i64> %bin.rdx12, <4 x i64> undef, <4 x i32> <i32 1, i32 undef, i32 undef, i32 undef>\n",
      "  %bin.rdx14 = mul <4 x i64> %bin.rdx12, %rdx.shuf13\n",
      "  %14 = extractelement <4 x i64> %bin.rdx14, i32 0\n",
      "  %cmp.n = icmp eq i64 %end.idx, %resume.val3\n",
      "  br i1 %cmp.n, label %B45, label %B29.preheader16\n",
      "\n",
      "B29.preheader16:                                  ; preds = %middle.block, %B29.preheader\n",
      "  %acc.02.ph = phi i64 [ 1, %B29.preheader ], [ %14, %middle.block ]\n",
      "  %.ph = phi i64 [ %arg.x, %B29.preheader ], [ %resume.val, %middle.block ]\n",
      "  %.ph17 = phi i64 [ 1, %B29.preheader ], [ %resume.val3, %middle.block ]\n",
      "  %15 = add i64 %.ph, 1\n",
      "  br label %B29\n",
      "\n",
      "B29:                                              ; preds = %B29.preheader16, %B29\n",
      "  %lsr.iv = phi i64 [ %15, %B29.preheader16 ], [ %lsr.iv.next, %B29 ]\n",
      "  %acc.02 = phi i64 [ %.187, %B29 ], [ %acc.02.ph, %B29.preheader16 ]\n",
      "  %16 = phi i64 [ %.140, %B29 ], [ %.ph17, %B29.preheader16 ]\n",
      "  %.140 = add nuw i64 %16, 1\n",
      "  %.187 = mul nsw i64 %acc.02, %16\n",
      "  %lsr.iv.next = add i64 %lsr.iv, -1\n",
      "  %.127 = icmp sgt i64 %lsr.iv.next, 1\n",
      "  br i1 %.127, label %B29, label %B45, !llvm.loop !3\n",
      "\n",
      "B45:                                              ; preds = %B29, %middle.block, %entry\n",
      "  %acc.0.lcssa = phi i64 [ 1, %entry ], [ %14, %middle.block ], [ %.187, %B29 ]\n",
      "  store i64 %acc.0.lcssa, i64* %retptr, align 8\n",
      "  ret i32 0\n",
      "}\n",
      "\n",
      "define i8* @\"wrapper.__main__.numbafact$1.int64\"(i8* %py_closure, i8* %py_args, i8* nocapture readnone %py_kws) {\n",
      "entry:\n",
      "  %.5 = alloca i8*, align 8\n",
      "  %.6 = call i32 (i8*, i8*, i64, i64, ...)* @PyArg_UnpackTuple(i8* %py_args, i8* getelementptr inbounds ([10 x i8]* @.const.numbafact, i64 0, i64 0), i64 1, i64 1, i8** %.5)\n",
      "  %.7 = icmp eq i32 %.6, 0\n",
      "  br i1 %.7, label %entry.if, label %entry.endif, !prof !4\n",
      "\n",
      "entry.if:                                         ; preds = %entry.endif.endif.endif.endif, %entry\n",
      "  ret i8* null\n",
      "\n",
      "entry.endif:                                      ; preds = %entry\n",
      "  %.11 = icmp eq i8* %py_closure, null\n",
      "  br i1 %.11, label %entry.endif.if, label %entry.endif.endif, !prof !4\n",
      "\n",
      "entry.endif.if:                                   ; preds = %entry.endif\n",
      "  %.13 = call i32 @puts(i8* getelementptr inbounds ([38 x i8]* @\".const.Fatal_error:_missing__dynfunc.Closure\", i64 0, i64 0))\n",
      "  unreachable\n",
      "\n",
      "entry.endif.endif:                                ; preds = %entry.endif\n",
      "  %.15 = ptrtoint i8* %py_closure to i64\n",
      "  %.16 = add i64 %.15, 24\n",
      "  %.18 = inttoptr i64 %.16 to { i8* }*\n",
      "  %.1920 = bitcast { i8* }* %.18 to i8**\n",
      "  %.20 = load i8** %.1920, align 8\n",
      "  %.25 = icmp eq i8* %.20, null\n",
      "  br i1 %.25, label %entry.endif.endif.if, label %entry.endif.endif.endif, !prof !4\n",
      "\n",
      "entry.endif.endif.if:                             ; preds = %entry.endif.endif\n",
      "  call void @PyErr_SetString(i8* @PyExc_RuntimeError, i8* getelementptr inbounds ([20 x i8]* @.const.missing_Environment, i64 0, i64 0))\n",
      "  ret i8* null\n",
      "\n",
      "entry.endif.endif.endif:                          ; preds = %entry.endif.endif\n",
      "  %.29 = load i8** %.5, align 8\n",
      "  %.31 = call i8* @PyNumber_Long(i8* %.29)\n",
      "  %.32 = icmp eq i8* %.31, null\n",
      "  br i1 %.32, label %entry.endif.endif.endif.endif, label %entry.endif.endif.endif.if, !prof !4\n",
      "\n",
      "entry.endif.endif.endif.if:                       ; preds = %entry.endif.endif.endif\n",
      "  %.34 = call i64 @PyLong_AsLongLong(i8* %.31)\n",
      "  call void @Py_DecRef(i8* %.31)\n",
      "  br label %entry.endif.endif.endif.endif\n",
      "\n",
      "entry.endif.endif.endif.endif:                    ; preds = %entry.endif.endif.endif, %entry.endif.endif.endif.if\n",
      "  %.30.0 = phi i64 [ %.34, %entry.endif.endif.endif.if ], [ undef, %entry.endif.endif.endif ]\n",
      "  %.39 = call i8* @PyErr_Occurred()\n",
      "  %.40 = icmp eq i8* %.39, null\n",
      "  br i1 %.40, label %entry.endif.endif.endif.endif.endif, label %entry.if, !prof !5\n",
      "\n",
      "entry.endif.endif.endif.endif.endif:              ; preds = %entry.endif.endif.endif.endif\n",
      "  %.82.i = icmp sgt i64 %.30.0, 0\n",
      "  br i1 %.82.i, label %B29.i.preheader, label %\"__main__.numbafact$1.int64.exit\"\n",
      "\n",
      "B29.i.preheader:                                  ; preds = %entry.endif.endif.endif.endif.endif\n",
      "  %0 = xor i64 %.30.0, -1\n",
      "  %1 = icmp sgt i64 %0, -2\n",
      "  %smax = select i1 %1, i64 %0, i64 -2\n",
      "  %2 = add i64 %.30.0, %smax\n",
      "  %backedge.overflow = icmp eq i64 %2, -2\n",
      "  br i1 %backedge.overflow, label %B29.i.preheader14, label %overflow.checked\n",
      "\n",
      "overflow.checked:                                 ; preds = %B29.i.preheader\n",
      "  %3 = add i64 %2, 2\n",
      "  %end.idx = add i64 %2, 3\n",
      "  %n.vec = and i64 %3, -8\n",
      "  %end.idx.rnd.down13 = or i64 %n.vec, 1\n",
      "  %cmp.zero = icmp eq i64 %end.idx.rnd.down13, 1\n",
      "  %rev.ind.end = sub i64 %.30.0, %n.vec\n",
      "  br i1 %cmp.zero, label %middle.block, label %vector.body.preheader\n",
      "\n",
      "vector.body.preheader:                            ; preds = %overflow.checked\n",
      "  %4 = sub i64 -1, %.30.0\n",
      "  %5 = icmp sgt i64 %4, -2\n",
      "  %smax19 = select i1 %5, i64 %4, i64 -2\n",
      "  %6 = add i64 %.30.0, %smax19\n",
      "  %7 = add i64 %6, 2\n",
      "  %8 = lshr i64 %7, 3\n",
      "  %9 = mul i64 %8, 8\n",
      "  br label %vector.body\n",
      "\n",
      "vector.body:                                      ; preds = %vector.body.preheader, %vector.body\n",
      "  %lsr.iv17 = phi i64 [ 0, %vector.body.preheader ], [ %lsr.iv.next18, %vector.body ]\n",
      "  %vec.phi = phi <4 x i64> [ %11, %vector.body ], [ <i64 1, i64 1, i64 1, i64 1>, %vector.body.preheader ]\n",
      "  %vec.phi3 = phi <4 x i64> [ %12, %vector.body ], [ <i64 1, i64 1, i64 1, i64 1>, %vector.body.preheader ]\n",
      "  %10 = add i64 %lsr.iv17, 1\n",
      "  %broadcast.splatinsert5 = insertelement <4 x i64> undef, i64 %10, i32 0\n",
      "  %broadcast.splat6 = shufflevector <4 x i64> %broadcast.splatinsert5, <4 x i64> undef, <4 x i32> zeroinitializer\n",
      "  %induction7 = add <4 x i64> %broadcast.splat6, <i64 0, i64 1, i64 2, i64 3>\n",
      "  %induction8 = add <4 x i64> %broadcast.splat6, <i64 4, i64 5, i64 6, i64 7>\n",
      "  %11 = mul nsw <4 x i64> %induction7, %vec.phi\n",
      "  %12 = mul nsw <4 x i64> %induction8, %vec.phi3\n",
      "  %lsr.iv.next18 = add i64 %lsr.iv17, 8\n",
      "  %13 = icmp eq i64 %9, %lsr.iv.next18\n",
      "  br i1 %13, label %middle.block, label %vector.body, !llvm.loop !6\n",
      "\n",
      "middle.block:                                     ; preds = %vector.body, %overflow.checked\n",
      "  %resume.val = phi i64 [ %.30.0, %overflow.checked ], [ %rev.ind.end, %vector.body ]\n",
      "  %resume.val1 = phi i64 [ 1, %overflow.checked ], [ %end.idx.rnd.down13, %vector.body ]\n",
      "  %rdx.vec.exit.phi = phi <4 x i64> [ <i64 1, i64 1, i64 1, i64 1>, %overflow.checked ], [ %11, %vector.body ]\n",
      "  %rdx.vec.exit.phi9 = phi <4 x i64> [ <i64 1, i64 1, i64 1, i64 1>, %overflow.checked ], [ %12, %vector.body ]\n",
      "  %bin.rdx = mul <4 x i64> %rdx.vec.exit.phi9, %rdx.vec.exit.phi\n",
      "  %rdx.shuf = shufflevector <4 x i64> %bin.rdx, <4 x i64> undef, <4 x i32> <i32 2, i32 3, i32 undef, i32 undef>\n",
      "  %bin.rdx10 = mul <4 x i64> %bin.rdx, %rdx.shuf\n",
      "  %rdx.shuf11 = shufflevector <4 x i64> %bin.rdx10, <4 x i64> undef, <4 x i32> <i32 1, i32 undef, i32 undef, i32 undef>\n",
      "  %bin.rdx12 = mul <4 x i64> %bin.rdx10, %rdx.shuf11\n",
      "  %14 = extractelement <4 x i64> %bin.rdx12, i32 0\n",
      "  %cmp.n = icmp eq i64 %end.idx, %resume.val1\n",
      "  br i1 %cmp.n, label %\"__main__.numbafact$1.int64.exit\", label %B29.i.preheader14\n",
      "\n",
      "B29.i.preheader14:                                ; preds = %middle.block, %B29.i.preheader\n",
      "  %acc.02.i.ph = phi i64 [ 1, %B29.i.preheader ], [ %14, %middle.block ]\n",
      "  %.ph = phi i64 [ %.30.0, %B29.i.preheader ], [ %resume.val, %middle.block ]\n",
      "  %.ph15 = phi i64 [ 1, %B29.i.preheader ], [ %resume.val1, %middle.block ]\n",
      "  %15 = add i64 %.ph, 1\n",
      "  br label %B29.i\n",
      "\n",
      "B29.i:                                            ; preds = %B29.i.preheader14, %B29.i\n",
      "  %lsr.iv = phi i64 [ %15, %B29.i.preheader14 ], [ %lsr.iv.next, %B29.i ]\n",
      "  %acc.02.i = phi i64 [ %.187.i, %B29.i ], [ %acc.02.i.ph, %B29.i.preheader14 ]\n",
      "  %16 = phi i64 [ %.140.i, %B29.i ], [ %.ph15, %B29.i.preheader14 ]\n",
      "  %.140.i = add nuw i64 %16, 1\n",
      "  %.187.i = mul nsw i64 %16, %acc.02.i\n",
      "  %lsr.iv.next = add i64 %lsr.iv, -1\n",
      "  %.127.i = icmp sgt i64 %lsr.iv.next, 1\n",
      "  br i1 %.127.i, label %B29.i, label %\"__main__.numbafact$1.int64.exit\", !llvm.loop !7\n",
      "\n",
      "\"__main__.numbafact$1.int64.exit\":                ; preds = %B29.i, %middle.block, %entry.endif.endif.endif.endif.endif\n",
      "  %acc.0.lcssa.i = phi i64 [ 1, %entry.endif.endif.endif.endif.endif ], [ %14, %middle.block ], [ %.187.i, %B29.i ]\n",
      "  %.62 = call i8* @PyLong_FromLongLong(i64 %acc.0.lcssa.i)\n",
      "  ret i8* %.62\n",
      "}\n",
      "\n",
      "declare i32 @PyArg_UnpackTuple(i8*, i8*, i64, i64, ...)\n",
      "\n",
      "; Function Attrs: nounwind\n",
      "declare i32 @puts(i8* nocapture readonly) #0\n",
      "\n",
      "declare void @PyErr_SetString(i8*, i8*)\n",
      "\n",
      "declare i8* @PyNumber_Long(i8*)\n",
      "\n",
      "declare i64 @PyLong_AsLongLong(i8*)\n",
      "\n",
      "declare void @Py_DecRef(i8*)\n",
      "\n",
      "declare i8* @PyErr_Occurred()\n",
      "\n",
      "declare i8* @PyLong_FromLongLong(i64)\n",
      "\n",
      "attributes #0 = { nounwind }\n",
      "\n",
      "!0 = distinct !{!0, !1, !2}\n",
      "!1 = !{!\"llvm.loop.vectorize.width\", i32 1}\n",
      "!2 = !{!\"llvm.loop.interleave.count\", i32 1}\n",
      "!3 = distinct !{!3, !1, !2}\n",
      "!4 = !{!\"branch_weights\", i32 1, i32 99}\n",
      "!5 = !{!\"branch_weights\", i32 99, i32 1}\n",
      "!6 = distinct !{!6, !1, !2}\n",
      "!7 = distinct !{!7, !1, !2}\n",
      "\n"
     ]
    }
   ],
   "source": [
    "print(list(numbafact.inspect_llvm().values())[0])"
   ]
  },
  {
   "cell_type": "code",
   "execution_count": 42,
   "metadata": {
    "collapsed": false
   },
   "outputs": [
    {
     "name": "stdout",
     "output_type": "stream",
     "text": [
      "Python Factorial:\n",
      "100000 loops, best of 3: 3.33 µs per loop\n",
      "\n",
      "Cython Factorial:\n",
      "The slowest run took 26.59 times longer than the fastest. This could mean that an intermediate result is being cached \n",
      "10000000 loops, best of 3: 44.7 ns per loop\n",
      "\n",
      "Numba Factorial:\n",
      "The slowest run took 17.20 times longer than the fastest. This could mean that an intermediate result is being cached \n",
      "10000000 loops, best of 3: 148 ns per loop\n"
     ]
    }
   ],
   "source": [
    "print(\"Python Factorial:\")\n",
    "%timeit hyfact(25)\n",
    "\n",
    "print(\"\\nCython Factorial:\")\n",
    "%timeit cyfact(25)\n",
    "\n",
    "print(\"\\nNumba Factorial:\")\n",
    "%timeit numbafact(25)"
   ]
  },
  {
   "cell_type": "markdown",
   "metadata": {
    "slideshow": {
     "slide_type": "slide"
    }
   },
   "source": [
    "# Bytecode Transformer Summary\n",
    "\n",
    "- Doesn't require external setup.\n",
    "- Can be applied on a per-function basis like any other decorator.\n",
    "- Relies on CPython implementation details:\n",
    "  - Only works in CPython (no PyPy).\n",
    "  - Significant changes between minor versions.\n",
    "- Bugs can cause segfaults."
   ]
  },
  {
   "cell_type": "markdown",
   "metadata": {
    "slideshow": {
     "slide_type": "subslide"
    }
   },
   "source": [
    "# Thanks!\n",
    "\n",
    "- **Talk Content:<h3><a href=\"https://github.com/ssanderson/pytenn2016\">https://github.com/ssanderson/pytenn2016</a>\n",
    "- **Twitter:** [@ssanderson11235](https://twitter.com/ssanderson11235)\n",
    "- **GitHub:** [ssanderson](github.com/ssanderson)"
   ]
  },
  {
   "cell_type": "code",
   "execution_count": null,
   "metadata": {
    "collapsed": true
   },
   "outputs": [],
   "source": []
  }
 ],
 "metadata": {
  "celltoolbar": "Slideshow",
  "kernelspec": {
   "display_name": "Python 3",
   "language": "python",
   "name": "python3"
  },
  "language_info": {
   "codemirror_mode": {
    "name": "ipython",
    "version": 3
   },
   "file_extension": ".py",
   "mimetype": "text/x-python",
   "name": "python",
   "nbconvert_exporter": "python",
   "pygments_lexer": "ipython3",
   "version": "3.4.3"
  }
 },
 "nbformat": 4,
 "nbformat_minor": 0
}
