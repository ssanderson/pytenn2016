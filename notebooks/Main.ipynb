{
 "cells": [
  {
   "cell_type": "code",
   "execution_count": 44,
   "metadata": {
    "collapsed": false,
    "slideshow": {
     "slide_type": "skip"
    }
   },
   "outputs": [],
   "source": [
    "from functools import wraps\n",
    "from codetransformer.utils.pretty import a as show_st, d as show_disassembly"
   ]
  },
  {
   "cell_type": "markdown",
   "metadata": {
    "slideshow": {
     "slide_type": "slide"
    }
   },
   "source": [
    "<center>\n",
    "  <h1>Unspeakably Evil Hacks in Service of Marginally-Improved Syntax</h1><br>\n",
    "  <h2>Compile-Time Metaprogramming in Python</h2><br>\n",
    "  <h3>Scott Sanderson - <a href=\"https://github.com/ssanderson/pytenn2016\">https://github.com/ssanderson/pytenn2016</a>\n",
    "  </h3><br>\n",
    "  \n",
    "</center>"
   ]
  },
  {
   "cell_type": "markdown",
   "metadata": {
    "slideshow": {
     "slide_type": "slide"
    }
   },
   "source": [
    "# Outline\n",
    "\n",
    "- Standard Metaprogramming Tools\n",
    "- Intro to CPython Compiler\n",
    "- Import Hooks\n",
    "- AST Transformers\n",
    "- Bytecode Transformers"
   ]
  },
  {
   "cell_type": "markdown",
   "metadata": {
    "slideshow": {
     "slide_type": "slide"
    }
   },
   "source": [
    "# Metaprogramming - Decorators"
   ]
  },
  {
   "cell_type": "code",
   "execution_count": 54,
   "metadata": {
    "collapsed": false,
    "slideshow": {
     "slide_type": "slide"
    }
   },
   "outputs": [],
   "source": [
    "def print_inputs(f):\n",
    "    \"A decorator that prints inputs to a function before calling it.\"\n",
    "    @wraps(f)\n",
    "    def print_then_call_f(*args, **kwargs):\n",
    "        print(\"Args: %s\" % (args,))\n",
    "        print(\"Kwargs: %s\" % kwargs)\n",
    "        f(*args, **kwargs)\n",
    "    return print_then_call_f"
   ]
  },
  {
   "cell_type": "code",
   "execution_count": 53,
   "metadata": {
    "collapsed": false,
    "slideshow": {
     "slide_type": "subslide"
    }
   },
   "outputs": [
    {
     "name": "stdout",
     "output_type": "stream",
     "text": [
      "Args: (1, 2)\n",
      "Kwargs: {'c': 5}\n",
      "Entering ``my_func``\n",
      "1 2 5\n",
      "Exiting ``my_func``\n"
     ]
    }
   ],
   "source": [
    "@print_inputs\n",
    "def my_func(a, b, c):\n",
    "    print(\"Entering ``my_func``\")\n",
    "    print(a, b, c)\n",
    "    print(\"Exiting ``my_func``\")\n",
    "    \n",
    "my_func(1, 2, c=5)"
   ]
  },
  {
   "cell_type": "markdown",
   "metadata": {
    "collapsed": true,
    "slideshow": {
     "slide_type": "slide"
    }
   },
   "source": [
    "# Metaprogramming - Metaclasses"
   ]
  },
  {
   "cell_type": "code",
   "execution_count": 92,
   "metadata": {
    "collapsed": false,
    "slideshow": {
     "slide_type": "subslide"
    }
   },
   "outputs": [],
   "source": [
    "import inspect\n",
    "import math\n",
    "\n",
    "property_signature = inspect.FullArgSpec(\n",
    "    args=['self'], \n",
    "    varargs=None, \n",
    "    varkw=None, \n",
    "    defaults=None, \n",
    "    kwonlyargs=[], \n",
    "    kwonlydefaults=None, \n",
    "    annotations={},\n",
    ")\n",
    "\n",
    "\n",
    "class AutoPropertyMeta(type):\n",
    "    \"\"\"\n",
    "    A metaclass that wraps all no-argument methods of a subtype in properties.\n",
    "    \"\"\"\n",
    "    def __new__(mcls, name, bases, clsdict):\n",
    "        for name, class_attr in clsdict.items():\n",
    "            try:\n",
    "                signature = inspect.getfullargspec(class_attr)\n",
    "            except TypeError: # Not everything in the classdict has to be callable.\n",
    "                continue\n",
    "            # Wrap anything with the right signature to be a property.\n",
    "            if signature == property_signature:\n",
    "                clsdict[name] = property(class_attr)\n",
    "\n",
    "        return super().__new__(mcls, name, bases, clsdict)\n"
   ]
  },
  {
   "cell_type": "code",
   "execution_count": null,
   "metadata": {
    "collapsed": true,
    "slideshow": {
     "slide_type": "subslide"
    }
   },
   "outputs": [],
   "source": [
    "class Vector(metaclass=AutoPropertyMeta):\n",
    "    def __init__(self, x, y):\n",
    "        self.x = x\n",
    "        self.y = y\n",
    "        \n",
    "    def magnitude(self):\n",
    "        return math.sqrt(self.x ** 2 + self.y ** 2)\n",
    "    \n",
    "    def doubled(self):\n",
    "        return Vector(self.x * 2, self.y * 2)"
   ]
  },
  {
   "cell_type": "code",
   "execution_count": 91,
   "metadata": {
    "collapsed": false,
    "slideshow": {
     "slide_type": "subslide"
    }
   },
   "outputs": [
    {
     "name": "stdout",
     "output_type": "stream",
     "text": [
      "Size: 2.23606797749979\n",
      "Doubled Size: 4.47213595499958\n"
     ]
    }
   ],
   "source": [
    "# Look mom, no parens!\n",
    "print(\"Size: %s\" % Vector(1, 2).magnitude)\n",
    "print(\"Doubled Size: %s\" % Vector(1, 2).doubled.magnitude)"
   ]
  },
  {
   "cell_type": "markdown",
   "metadata": {
    "slideshow": {
     "slide_type": "slide"
    }
   },
   "source": [
    "# Metaprogramming - `exec`/`eval`\n",
    "\n"
   ]
  },
  {
   "cell_type": "code",
   "execution_count": null,
   "metadata": {
    "collapsed": true
   },
   "outputs": [],
   "source": []
  }
 ],
 "metadata": {
  "celltoolbar": "Slideshow",
  "kernelspec": {
   "display_name": "Python 3",
   "language": "python",
   "name": "python3"
  },
  "language_info": {
   "codemirror_mode": {
    "name": "ipython",
    "version": 3
   },
   "file_extension": ".py",
   "mimetype": "text/x-python",
   "name": "python",
   "nbconvert_exporter": "python",
   "pygments_lexer": "ipython3",
   "version": "3.4.3"
  }
 },
 "nbformat": 4,
 "nbformat_minor": 0
}
